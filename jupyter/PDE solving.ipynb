{
 "cells": [
  {
   "cell_type": "code",
   "execution_count": 1,
   "metadata": {},
   "outputs": [],
   "source": [
    "using DiffEqOperators\n",
    "using DifferentialEquations\n",
    "using Plots, LinearAlgebra, LaTeXStrings, QuadGK"
   ]
  },
  {
   "cell_type": "code",
   "execution_count": 2,
   "metadata": {},
   "outputs": [
    {
     "ename": "InexactError",
     "evalue": "InexactError: Int64(-0.5)",
     "output_type": "error",
     "traceback": [
      "InexactError: Int64(-0.5)",
      "",
      "Stacktrace:",
      " [1] Type at .\\float.jl:703 [inlined]",
      " [2] convert at .\\number.jl:7 [inlined]",
      " [3] setindex! at .\\array.jl:769 [inlined]",
      " [4] calculate_weights(::Int64, ::Int64, ::UnitRange{Int64}) at C:\\Users\\lucy_\\.julia\\packages\\DiffEqOperators\\u3MdC\\src\\derivative_operators\\fornberg.jl:44",
      " [5] CenteredDifference{1}(::Int64, ::Int64, ::Int64, ::Int64, ::Nothing) at C:\\Users\\lucy_\\.julia\\packages\\DiffEqOperators\\u3MdC\\src\\derivative_operators\\derivative_operator.jl:47",
      " [6] CenteredDifference{1}(::Int64, ::Int64, ::Int64, ::Int64) at C:\\Users\\lucy_\\.julia\\packages\\DiffEqOperators\\u3MdC\\src\\derivative_operators\\derivative_operator.jl:34",
      " [7] top-level scope at In[2]:12"
     ]
    }
   ],
   "source": [
    "N = 300\n",
    "D = 75\n",
    "\n",
    "const M = Tridiagonal([1.0 for i in 1:N-1],[-2.0 for i in 1:N],[1.0 for i in 1:N-1])\n",
    "# Do the reflections, different for x and y operators\n",
    "M[2,1] = 2.0\n",
    "M[end-1,end] = 2.0\n",
    "\n",
    "order = 2\n",
    "deriv = 2\n",
    "const dx = 10\n",
    "D = CenteredDifference{1}(deriv,order,dx,N)\n",
    "#Q = Dirichlet0BC()\n",
    "Q = Neumann0BC(dx, 1)\n",
    "\n",
    "tspan = (0.0,100.0)\n",
    "u0 = zeros(N);\n",
    "u0[1] = 1;\n",
    "\n",
    "function f(du,u,p,t)\n",
    "  @. du = M*u#D*u \n",
    "end\n"
   ]
  },
  {
   "cell_type": "code",
   "execution_count": null,
   "metadata": {},
   "outputs": [],
   "source": [
    "using Plots\n",
    "gr()\n",
    "N = 500\n",
    "\n",
    "#Setup\n",
    "u0 = zeros(N);\n",
    "u0[1] = 1;\n",
    "tspan = (0.0, 1000.0)\n",
    "\n",
    "#For the RHS of the PDE:\n",
    "dx = 0.1\n",
    "#CenteredDifference(derivative order, approximation order,dx, number of points)\n",
    "D = CenteredDifference(2,2,dx,N)\n",
    "Q = Neumann0BC(dx)\n",
    "\n",
    "C = CenteredDifference(1,2,dx,N)\n",
    "\n",
    "#Define the time dependence\n",
    "du(u,p,t) = D*Q*u*75\n",
    "\n",
    "#Pass to solver\n",
    "prob = ODEProblem(du,u0,tspan)\n",
    "sol = solve(prob, BS3());"
   ]
  },
  {
   "cell_type": "code",
   "execution_count": null,
   "metadata": {},
   "outputs": [],
   "source": [
    "phi(x,D,t) = 2/sqrt(2*pi*D*t)*exp.(-(x.^2)/(2*D*t))\n",
    "x = 0:dx:N*dx-dx"
   ]
  },
  {
   "cell_type": "code",
   "execution_count": null,
   "metadata": {},
   "outputs": [],
   "source": [
    "t = 100\n",
    "plot(x,sol(t),ylim=[0,0.1], xlabel=L\"x\", ylabel=L\"\\phi\", label=\"Numerical solution\", linewidth=4)\n",
    "plot!(x,phi(dx:dx:N*dx,75.0,t),ylim=[0,0.1], xlabel=L\"x\", ylabel=L\"\\phi\", label=\"Analytical solution\",linewidth=4)\n",
    " "
   ]
  },
  {
   "cell_type": "code",
   "execution_count": null,
   "metadata": {},
   "outputs": [],
   "source": [
    "phi.(x,75.0,.1)"
   ]
  },
  {
   "cell_type": "code",
   "execution_count": null,
   "metadata": {},
   "outputs": [],
   "source": [
    "sol(20.0)"
   ]
  },
  {
   "cell_type": "code",
   "execution_count": null,
   "metadata": {},
   "outputs": [],
   "source": [
    "sum(sol(0.001).*dx)"
   ]
  },
  {
   "cell_type": "code",
   "execution_count": null,
   "metadata": {},
   "outputs": [],
   "source": [
    "integral, err = quadgk(x -> phi(x,75.0,0.1), 0, 1000, rtol=1e-8)\n",
    "#itegral, err = quadgk(x -> )"
   ]
  },
  {
   "cell_type": "code",
   "execution_count": null,
   "metadata": {},
   "outputs": [],
   "source": [
    "#Plot\n",
    "@gif for i = 1:10:length(sol)#200:length(sol)\n",
    "    plot(dx:dx:N*dx,sol[i],ylim=[0,1], xlabel=L\"x\", ylabel=L\"\\phi\", label=\"Numerical solution\")\n",
    "end"
   ]
  },
  {
   "cell_type": "code",
   "execution_count": null,
   "metadata": {},
   "outputs": [],
   "source": []
  }
 ],
 "metadata": {
  "kernelspec": {
   "display_name": "Julia 1.1.0",
   "language": "julia",
   "name": "julia-1.1"
  },
  "language_info": {
   "file_extension": ".jl",
   "mimetype": "application/julia",
   "name": "julia",
   "version": "1.1.0"
  }
 },
 "nbformat": 4,
 "nbformat_minor": 2
}
