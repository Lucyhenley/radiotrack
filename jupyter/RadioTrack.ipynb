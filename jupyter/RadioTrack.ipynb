{
 "cells": [
  {
   "cell_type": "code",
   "execution_count": 1,
   "metadata": {},
   "outputs": [
    {
     "name": "stderr",
     "output_type": "stream",
     "text": [
      "┌ Info: Recompiling stale cache file C:\\Users\\lucy_\\.julia\\compiled\\v1.1\\JuliaDB\\4FA8g.ji for JuliaDB [a93385a2-3734-596a-9a66-3cfbb77141e6]\n",
      "└ @ Base loading.jl:1184\n",
      "┌ Info: Recompiling stale cache file C:\\Users\\lucy_\\.julia\\compiled\\v1.1\\Plots\\ld3vC.ji for Plots [91a5bcdd-55d7-5caf-9e0b-520d859cae80]\n",
      "└ @ Base loading.jl:1184\n",
      "┌ Info: Recompiling stale cache file C:\\Users\\lucy_\\.julia\\compiled\\v1.1\\StatsPlots\\SiylL.ji for StatsPlots [f3b207a7-027a-5e70-b257-86293d7955fd]\n",
      "└ @ Base loading.jl:1184\n",
      "┌ Info: Recompiling stale cache file C:\\Users\\lucy_\\.julia\\compiled\\v1.1\\JLD2\\O1EyT.ji for JLD2 [033835bb-8acc-5ee8-8aae-3f567f8a3819]\n",
      "└ @ Base loading.jl:1184\n",
      "┌ Info: Recompiling stale cache file C:\\Users\\lucy_\\.julia\\compiled\\v1.1\\LsqFit\\GCdY9.ji for LsqFit [2fda8390-95c7-5789-9bda-21331edee243]\n",
      "└ @ Base loading.jl:1184\n"
     ]
    },
    {
     "data": {
      "text/plain": [
       "\"C:\\\\Users\\\\lucy_\\\\bats\\\\radiotrack\\\\\""
      ]
     },
     "execution_count": 1,
     "metadata": {},
     "output_type": "execute_result"
    }
   ],
   "source": [
    "ENV[\"GKS_ENCODING\"] = \"utf-8\"\n",
    "#using GroupedErrors\n",
    "using JuliaDB, Plots, StatsPlots, StatsBase, Interpolations, Statistics, LaTeXStrings, Random, Distributions,\n",
    "JLD2, Colors, Plots.PlotMeasures, Dates, LsqFit\n",
    "gr()\n",
    "path = chop(pwd(),tail=7)"
   ]
  },
  {
   "cell_type": "code",
   "execution_count": 2,
   "metadata": {},
   "outputs": [
    {
     "name": "stderr",
     "output_type": "stream",
     "text": [
      "┌ Warning: `pushcol(t, key::Union{Int, Symbol}, val)` is deprecated, use `transform(t, key => val)` instead.\n",
      "│   caller = top-level scope at In[2]:2\n",
      "└ @ Core In[2]:2\n",
      "┌ Warning: `pushcol(t, key::Union{Int, Symbol}, val)` is deprecated, use `transform(t, key => val)` instead.\n",
      "│   caller = top-level scope at In[2]:4\n",
      "└ @ Core In[2]:4\n",
      "┌ Warning: `pushcol(t, key::Union{Int, Symbol}, val)` is deprecated, use `transform(t, key => val)` instead.\n",
      "│   caller = top-level scope at In[2]:5\n",
      "└ @ Core In[2]:5\n"
     ]
    }
   ],
   "source": [
    "t = loadtable(string(path, \"data/radiotrack.csv\"))\n",
    "\n",
    "t = JuliaDB.pushcol(t, :x_displacement, select(t, (:X, :start_x) => row -> row.X-row.start_x))\n",
    "t = JuliaDB.pushcol(t, :y_displacement, select(t, (:Y, :start_y) => row -> row.Y-row.start_y))\n",
    "\n",
    "t = JuliaDB.pushcol(t, :SD, (:X, :start_x, :Y, :start_y) => row -> (row.X-row.start_x)^2 + (row.Y-row.start_y)^2)\n",
    "sunset = 21*3600 .+ 60 .*[3, 4, 5, 7, 8, 9, 10, 12, 13, 14, 15, 16, 17, 18, 24, 25, 25, 26, 27, 27, 28];\n",
    "days = unique(select(t, :studyday));\n",
    "\n"
   ]
  },
  {
   "cell_type": "code",
   "execution_count": 9,
   "metadata": {},
   "outputs": [],
   "source": [
    "timesteps = []\n",
    "for i in unique(select(t, :BatID))\n",
    "    for (idx,j) in enumerate(unique(select(filter(x -> x == i , t; select = :BatID), :studyday)))\n",
    "        A_t = select(filter(x -> (x.BatID == i) && (x.studyday ==j), t), :Time)\n",
    "        tfs = hour.(DateTime.(A_t, \"HH:MM:SS\"))*3600 + minute.(DateTime.(A_t, \"HH:MM:SS\"))*60 + second.(DateTime.(A_t, \"HH:MM:SS\")) .- sunset[findfirst(x-> x==j, days)]   \n",
    "        tfs[findall(tfs .< -10000)] .+= 24*3600\n",
    "        tfs[findall(tfs.<0)] .= 0\n",
    "        if length(tfs)>1            \n",
    "            #print(tfs[2:end].-tfs[1:end-1],\"\\n\")\n",
    "            append!(timesteps, tfs[2:end].-tfs[1:end-1])\n",
    "        end\n",
    "    end\n",
    "end\n"
   ]
  },
  {
   "cell_type": "code",
   "execution_count": 27,
   "metadata": {},
   "outputs": [
    {
     "data": {
      "text/plain": [
       "15.0"
      ]
     },
     "execution_count": 27,
     "metadata": {},
     "output_type": "execute_result"
    }
   ],
   "source": [
    "timesteps = timesteps*60\n",
    "mean(timesteps)\n",
    "median(timesteps)"
   ]
  },
  {
   "cell_type": "code",
   "execution_count": 32,
   "metadata": {},
   "outputs": [
    {
     "data": {
      "text/plain": [
       "60.0"
      ]
     },
     "execution_count": 32,
     "metadata": {},
     "output_type": "execute_result"
    }
   ],
   "source": [
    "quantile(timesteps,0.85)"
   ]
  },
  {
   "cell_type": "code",
   "execution_count": 3,
   "metadata": {},
   "outputs": [],
   "source": [
    "gr()\n",
    "t2 = loadtable(string(path, \"data/radiotrack_roosts.csv\"))\n",
    "scatter((select(t,:X).-minimum(select(t,:X)))./1e3 .+ 0.1, (select(t,:Y).- minimum(select(t,:Y)))./1e3, markersize=4, label=\"Bat locations\")\n",
    "scatter!((select(t2,:Roost_x).- minimum(select(t,:X)))./1e3 .+ 0.1,(select(t2,:Roost_y).- minimum(select(t,:Y)))./1e3, markersize=8, label=\"Day roosts\",marker=:diamond)\n",
    "plot!(legend=:outertopright, aspect_ratio=1,xlabel=\"x (km)\",ylabel=\"y (km)\",tickfontsize=12, legendfontsize=12, guidefontsize=12, grid=:off,\n",
    "    size=(600,400), margin=10px)\n",
    "savefig(string(path, \"figs/track_locations.png\"))"
   ]
  },
  {
   "cell_type": "code",
   "execution_count": 4,
   "metadata": {},
   "outputs": [],
   "source": [
    "i = 1\n",
    "plot()\n",
    "colours = [:fuchsia,:greenyellow,:blue,:red,:orange,:black]\n",
    "for (idx,j) in enumerate(unique(select(filter(x -> x == i , t; select = :BatID), :studyday)))\n",
    "    plot!((select(filter(x -> (x.BatID == i)&& (x.studyday ==j),t),:X).- minimum(select(t,:X)))./1e3, \n",
    "        (select(filter(x -> (x.BatID == i)&& (x.studyday ==j),t),:Y).- minimum(select(t,:Y)))./1e3, \n",
    "        width=2, label=string(\"Day \",j), color=colours[idx])\n",
    "end\n",
    "for (idx,j) in enumerate(unique(select(filter(x -> x == i , t; select = :BatID), :studyday)))\n",
    "    scatter!((select(filter(x -> (x.BatID == i)&& (x.studyday ==j),t),:X).- minimum(select(t,:X)))./1e3, \n",
    "        (select(filter(x -> (x.BatID == i)&& (x.studyday ==j),t),:Y).- minimum(select(t,:Y)))./1e3, \n",
    "        markersize=4, label=\"\", color=colours[idx])\n",
    "end\n",
    "scatter!((select(t2,:Roost_x).- minimum(select(t,:X)))[1:2]./1e3 .+ 0.1,\n",
    "    (select(t2,:Roost_y).- minimum(select(t,:Y)))[1:2]./1e3, markersize=8, \n",
    "    label=\"Day roosts\",marker=:diamond, color=:cadetblue1)\n",
    "plot!(legend=:outertopright, aspect_ratio=1,xlabel=\"x (km)\",ylabel=\"y (km)\",tickfontsize=12, legendfontsize=12, guidefontsize=12, grid=:off,\n",
    "    size=(600,400), margin=10px, ylims=[0 5])\n",
    "savefig(string(path, \"figs/bat1_locations.png\"))"
   ]
  },
  {
   "cell_type": "code",
   "execution_count": 5,
   "metadata": {},
   "outputs": [],
   "source": [
    "i = 5\n",
    "j = 6\n",
    "idx = j\n",
    "A_t = select(filter(x -> (x.BatID == i) && (x.studyday ==j), t), :Time)\n",
    " \n",
    "xdis1 = select(filter(x -> (x.BatID == i) && (x.studyday ==j), t), :x_displacement)\n",
    "ydis1 = select(filter(x -> (x.BatID == i) && (x.studyday ==j), t), :y_displacement);\n",
    "\n",
    "i = 6\n",
    "j = 8\n",
    "idx = j\n",
    "A_t = select(filter(x -> (x.BatID == i) && (x.studyday ==j), t), :Time)\n",
    " \n",
    "xdis2 = select(filter(x -> (x.BatID == i) && (x.studyday ==j), t), :x_displacement)\n",
    "ydis2 = select(filter(x -> (x.BatID == i) && (x.studyday ==j), t), :y_displacement);\n",
    "\n",
    "\n",
    "i = 6\n",
    "j = 10\n",
    "idx = j\n",
    "A_t = select(filter(x -> (x.BatID == i) && (x.studyday ==j), t), :Time)\n",
    " \n",
    "xdis3 = select(filter(x -> (x.BatID == i) && (x.studyday ==j), t), :x_displacement)\n",
    "ydis3 = select(filter(x -> (x.BatID == i) && (x.studyday ==j), t), :y_displacement);\n",
    "\n",
    "i = 7\n",
    "j = 8\n",
    "idx = j\n",
    "A_t = select(filter(x -> (x.BatID == i) && (x.studyday ==j), t), :Time)\n",
    " \n",
    "xdis4 = select(filter(x -> (x.BatID == i) && (x.studyday ==j), t), :x_displacement)\n",
    "ydis4 = select(filter(x -> (x.BatID == i) && (x.studyday ==j), t), :y_displacement);\n",
    "\n"
   ]
  },
  {
   "cell_type": "code",
   "execution_count": 6,
   "metadata": {},
   "outputs": [],
   "source": [
    "gr()\n",
    "plt = hline([0,0], label=\"\", color=:black)\n",
    "vline!([0,0], label=\"\", color=:black)\n",
    "plot!(xdis1, ydis1, label=\"Regression\", color=:blue)\n",
    "scatter!(xdis1,ydis1, label=\"Recorded points\", color=:blue, markersize=5)\n",
    "plot!(xdis2, ydis2, label=\"Regression\", color=:orange)\n",
    "scatter!(xdis2,ydis2, label=\"Recorded points\", color=:orange, markersize=5)\n",
    "plot!(xdis3, ydis3, label=\"Regression\", color=:red)\n",
    "scatter!(xdis3,ydis3, label=\"Recorded points\", color=:red, markersize=5)\n",
    "plot!(xdis4, ydis4, label=\"Regression\", color=:black)\n",
    "scatter!(xdis4,ydis4, label=\"Recorded points\", color=:black, markersize=5)\n",
    "\n",
    "\n",
    "\n",
    "plot!(grid=false, aspect_ratio=1, showaxis=false, legend=false,\n",
    "    size=(500,500),\n",
    "    tickfontsize=18, guidefontsize=20, legendfontsize=10)\n",
    "\n",
    "savefig(string(path, \"figs/Track_interpolations.png\"))"
   ]
  },
  {
   "cell_type": "code",
   "execution_count": 7,
   "metadata": {},
   "outputs": [],
   "source": [
    "dt = 60.\n",
    "times = []\n",
    "sdists = []\n",
    "xdists = []\n",
    "ydists = []\n",
    "ts = []\n",
    "l = []\n",
    "batID = []\n",
    "batday = []\n",
    "for i in unique(select(t, :BatID))\n",
    "    for (idx,j) in enumerate(unique(select(filter(x -> x == i , t; select = :BatID), :studyday)))\n",
    "           roost = [select(filter(x -> (x.BatID == i) && (x.studyday ==(j+1)), t2), :Roost_x)  select(filter(x -> (x.BatID == i) && (x.studyday ==j+1), t2), :Roost_y)]\n",
    "             A_t = select(filter(x -> (x.BatID == i) && (x.studyday ==j), t), :Time)\n",
    "            if length(roost) >0\n",
    "            A_t = select(filter(x -> (x.BatID == i) && (x.studyday ==j), t), :Time)\n",
    "            tfs = hour.(DateTime.(A_t, \"HH:MM:SS\"))*3600 + minute.(DateTime.(A_t, \"HH:MM:SS\"))*60 + second.(DateTime.(A_t, \"HH:MM:SS\")) .- sunset[findfirst(x-> x==j, days)]   \n",
    "            tfs[findall(tfs .< -10000)] .+= 24*3600\n",
    "            tfs[findall(tfs.<0)] .= 0\n",
    "            if length(tfs) > 1\n",
    "                knots = (tfs,)\n",
    "                itpx = interpolate(knots, select(filter(x -> (x.BatID == i) && (x.studyday ==j), t), :X).-roost[1], Gridded(Linear()))\n",
    "                itpy = interpolate(knots, select(filter(x -> (x.BatID == i) && (x.studyday ==j), t), :Y).-roost[2], Gridded(Linear()))\n",
    "                for (j,t) in enumerate(dt:dt:8*3600)\n",
    "                    if t < tfs[end] && t > tfs[1]\n",
    "                        append!(ts, t)\n",
    "                        append!(sdists, itpx(t)^2+itpy(t)^2)\n",
    "                        append!(xdists, itpx(t))\n",
    "                        append!(ydists, itpy(t))\n",
    "                        append!(batID, i)\n",
    "                        append!(batday,idx)\n",
    "                    end\n",
    "                end\n",
    "            end\n",
    "        end\n",
    "    end\n",
    "end\n",
    "\n",
    "hours = ts./3600;\n",
    "t3 = table((ID=batID, day=batday, t=ts, hour=hours, sd=sdists, xd=xdists, yd=ydists));"
   ]
  },
  {
   "cell_type": "code",
   "execution_count": 8,
   "metadata": {},
   "outputs": [
    {
     "name": "stderr",
     "output_type": "stream",
     "text": [
      "┌ Info: Saved animation to \n",
      "│   fn = C:\\Users\\lucy_\\bats\\radiotrack\\jupyter\\tmp.gif\n",
      "└ @ Plots C:\\Users\\lucy_\\.julia\\packages\\Plots\\qZHsp\\src\\animation.jl:98\n"
     ]
    },
    {
     "data": {
      "text/html": [
       "<img src=\"data:image/gif;base64,R0lGODlhjwEgA/dUAAAAAQAABAAABwAACwAADgAAEQAAFAAAFgAAFwAAGQAAGwAAHgAAIQAAJAAAJgAAKgAALAAAMAAAMgAAMwAANQAAOAAAOgAAOwAAPQAAPwAAQgAARgAASgAATgAAUgAAVgAAVwAAWwAAXwAAYwAAZgAAaQAAbAAAcAAAdAAAeAAAewAAfgAAggAAhgAAiQAAjAAAkAAAlAAAmAAAmwAAngAAoQAApAAApgAAqQAAqwAArgAAsQAAtQAAuQAAvAAAvgAAwQAAxQAAyQAAzAAA0AAA1AAA1wAA3AAA4AAA4wAA5wAA6gAA7QAA8AAA8gAA9QAA9wAA+gAA/QAA/wD/AAICGgMDBAMDCgMDDQMDEgMDFQMDFwQEBwUFCgUFDgUFEgYGBgYGFQcHEwgIDAkJCQkJDwoKEQoKFAwMDQ0NEQ0NFA4ODxAQERAQFBAQFRMTExQUFRQUFxYWFhcXGRgYGRoaGxwcHRwc/x4eHiAgICIiIiQkJCYmJigoKCoqKiwsLC8vLzExMTIyMjQ0NDY2Njg4ODk5OTs7Oz09PUBAQEBA/0JCQkREREZGRklJSUtLS01NTU9PT1JSUlRUVFVVVVdXV1paWlxcXF1dXV5e/2BgYGJiYmVlZWhoaGpqamxsbG1tbW9vb3JycnR0dHV1/3Z2dnh4eHl5eXt7e319fX9/f4CAgIGB/4KCgoSEhIaGhoeHh4eH/4qKioyMjI+Pj5CQ/5KSkpSUlJaWlpmZmZmZ/5ubm52dnaCgoKGh/6KioqWlpaenp6ioqKqqqqqq/6urq62tra+vr7GxsbKysrS0tLa2/7e3t7q6ury8vL6+vr6+/7+/v7+//8DAwMDA/8HBwcHB/8PDw8XFxcXF/8fHx8jIyMvLy83Nzc7Ozs7O/9HR0dPT09bW1tjY2NnZ2dnZ/9zc3N7e3uHh4ePj4+Pj/+Xl5efn5+jo6Orq6uzs7O7u7u7u//Dw8PHx8fLy8vT09PX19fb29vj4+Pr6+vr6+/z8/Pz8/f7+/v7+/////yH/C05FVFNDQVBFMi4wAwEAAAA=\" />"
      ],
      "text/plain": [
       "Plots.AnimatedGif(\"C:\\\\Users\\\\lucy_\\\\bats\\\\radiotrack\\\\jupyter\\\\tmp.gif\")"
      ]
     },
     "execution_count": 8,
     "metadata": {},
     "output_type": "execute_result"
    }
   ],
   "source": [
    "using Plots\n",
    "\n",
    "plt = scatter(1, xlim=(-3000,2000), ylim=(-1000,1000),\n",
    "                title = \"Bats\", marker = 2, label=\"\")\n",
    "#sunset 21:10\n",
    "@gif for time = 300.0:60.0:sort(unique(select(t3,:t)))[end]#sort(unique(select(t3,:t)))[2:end]\n",
    "    @df filter(x->(x.t < time)&&(x.ID == 1),t3) plot(:xd,:yd, group=(:day),\n",
    "        label=\"\", title=string(time/60, \":\"),\n",
    "        xlim=(-1500,1500), ylim=(-1000,1000), grid=false,foreground_color_guide=:white)\n",
    "    @df filter(x->(x.t < time)&&(x.ID == 1),t3) scatter!(:xd,:yd, group=(:day),\n",
    "        label=\"\", title=string(time/60, \":\"),\n",
    "        xlim=(-1500,1500), ylim=(-1000,1000), grid=false,foreground_color_guide=:white)\n",
    "end"
   ]
  },
  {
   "cell_type": "code",
   "execution_count": 74,
   "metadata": {},
   "outputs": [],
   "source": [
    "# sqrt(var(x, corrected=true) / length(x)).\n",
    "\n",
    "meansd = []\n",
    "meanxd = []\n",
    "meanyd = []\n",
    "meand = []\n",
    "stdsd = []\n",
    "varsd = []\n",
    "lngth = [] \n",
    "sstot = 0\n",
    "for (i, tps) in enumerate(dt:dt:maximum(ts))\n",
    "    append!(meansd, mean(sdists[ts.==tps]))\n",
    "    append!(meanxd, mean(xdists[ts.==tps]))\n",
    "    append!(meanyd, mean(ydists[ts.==tps]))\n",
    "    append!(meand, mean(xdists[ts.==tps].+ydists[ts.==tps]))\n",
    "    append!(stdsd, Statistics.std(sdists[ts.==tps]))\n",
    "    append!(varsd, StatsBase.var(sdists[ts.==tps]))\n",
    "    append!(lngth, length(sdists[ts.==tps]))\n",
    "end\n",
    "semsd = sqrt.(varsd./lngth);\n",
    "semsd[isnan.(semsd)] .= 0;"
   ]
  },
  {
   "cell_type": "code",
   "execution_count": 88,
   "metadata": {},
   "outputs": [],
   "source": [
    "t = dt:dt:maximum(ts)\n",
    "@save \"radiotrack.jld2\" t meansd semsd stdsd"
   ]
  },
  {
   "cell_type": "code",
   "execution_count": 89,
   "metadata": {},
   "outputs": [
    {
     "data": {
      "text/plain": [
       "([64.6856, -72815.8], Tuple{Float64,Float64}[(33.1594, 96.2118), (-4.72991e5, 3.2736e5)])"
      ]
     },
     "execution_count": 89,
     "metadata": {},
     "output_type": "execute_result"
    }
   ],
   "source": [
    "T = 4.35 *10^3\n",
    "@. model(t, D) = 4*D[1]*t+D[2]\n",
    "xdata = select(filter(x -> (x.t <T),t3), :t)\n",
    "ydata = select(filter(x -> (x.t < T), t3), :sd)\n",
    "D0 = [100., 100.0]\n",
    "fit_ = curve_fit(model, xdata, ydata, D0)\n",
    "D_estimate = coef(fit_)\n",
    "coef(fit_), confidence_interval(fit_, 0.1)"
   ]
  },
  {
   "cell_type": "code",
   "execution_count": 90,
   "metadata": {},
   "outputs": [],
   "source": [
    "T = 4.19 *10^3\n",
    "@. model(t, p) = p[1]*t + p[2]\n",
    "xdata = select(filter(row -> (row.t > T), t3), :t)\n",
    "ydata = select(filter(row -> (row.t > T), t3), :sd)\n",
    "p0 = [1., 1.]\n",
    "fit_ = curve_fit(model, xdata, ydata, p0)\n",
    "p = coef(fit_)\n",
    "\n",
    "dt_sim = 10\n",
    "msds_linear = []\n",
    "\n",
    "for (i, tps) in enumerate(dt:dt:maximum(ts))\n",
    "    if tps<T\n",
    "        append!(msds_linear, 4*D_estimate[1]*tps+D_estimate[2])\n",
    "    else\n",
    "        append!(msds_linear,(p[1]*tps + p[2]))\n",
    "    end\n",
    "end\n",
    "\n",
    "\n",
    "semsd = sqrt.(varsd./lngth);\n",
    "semsd[isnan.(semsd)] .= 0;\n"
   ]
  },
  {
   "cell_type": "code",
   "execution_count": 91,
   "metadata": {},
   "outputs": [],
   "source": [
    "\n",
    "T = 4.19 *10^3\n",
    "@. model(t, p) = p[1]*t^2 + p[2]*t + p[3]\n",
    "xdata = select(filter(row -> (row.t > T), t3), :t)\n",
    "ydata = select(filter(row -> (row.t > T), t3), :sd)\n",
    "p0 = [1.,1.,1.]\n",
    "fit_ = curve_fit(model, xdata, ydata, p0)\n",
    "p = coef(fit_)\n",
    "\n",
    "dt_sim = 10\n",
    "msds_quadratic = []\n",
    "\n",
    "for (i, tps) in enumerate(dt:dt:maximum(ts))\n",
    "    if tps<T\n",
    "        append!(msds_quadratic, 4*D_estimate[1]*tps+D_estimate[2])\n",
    "    else\n",
    "        append!(msds_quadratic,(p[1]*tps^2 + p[2]*tps + p[3]))\n",
    "    end\n",
    "end\n",
    "\n",
    "semsd = sqrt.(varsd./lngth);\n",
    "semsd[isnan.(semsd)] .= 0;\n",
    "\n"
   ]
  },
  {
   "cell_type": "code",
   "execution_count": 92,
   "metadata": {},
   "outputs": [],
   "source": [
    "T = 4.19 *10^3\n",
    "@. model(t, p) = p[1]*t^2 + p[2]*t + p[3]\n",
    "xdata = select(filter(row -> (row.t > T), t3), :t)\n",
    "ydata = select(filter(row -> (row.t > T), t3), :sd)\n",
    "p0 = [1.,1.,1.]\n",
    "fit_ = curve_fit(model, xdata, ydata, p0)\n",
    "p = coef(fit_)\n",
    "\n",
    "dt_sim = 10\n",
    "msds_quadratic = []\n",
    "\n",
    "for (i, tps) in enumerate(dt:dt:maximum(ts))\n",
    "    if tps<T\n",
    "        append!(msds_quadratic, 4*D_estimate[1]*tps+D_estimate[2])\n",
    "    else\n",
    "        append!(msds_quadratic,(p[1]*tps^2 + p[2]*tps + p[3]))\n",
    "    end\n",
    "end\n",
    "\n",
    "semsd = sqrt.(varsd./lngth);\n",
    "semsd[isnan.(semsd)] .= 0;\n"
   ]
  },
  {
   "cell_type": "code",
   "execution_count": 93,
   "metadata": {},
   "outputs": [
    {
     "data": {
      "text/plain": [
       "0.9269586215508365"
      ]
     },
     "execution_count": 93,
     "metadata": {},
     "output_type": "execute_result"
    }
   ],
   "source": [
    "sstot = 0\n",
    "ssres_linear = 0\n",
    "ssres_quadratic = 0\n",
    "ssres_simulation = 0\n",
    "    for (i,msd) in enumerate(meansd)  \n",
    "        sstot += (msd - mean(meansd))^2\n",
    "        ssres_linear += (msds_linear[i]-msd)^2\n",
    "        ssres_quadratic += (msds_quadratic[i]-msd)^2\n",
    "    end\n",
    "\n",
    "\n",
    "r2_quadratic = 1 - ssres_quadratic/sstot\n",
    "r2_linear = 1 - ssres_linear/sstot"
   ]
  },
  {
   "cell_type": "code",
   "execution_count": 75,
   "metadata": {},
   "outputs": [],
   "source": [
    "plot(xlabel=string(\"Time from sunset (hours)\"), ylabel=\"MSD (km²)\", \n",
    "    markersize=8, color=:red,\n",
    "    size=(800,500), grid=false,\n",
    "    ylims=(0,1.6),\n",
    "    tickfontsize=17, guidefontsize=22, margin=10mm)\n",
    "scatter!((dt:dt:maximum(ts))./3600., meansd./10^6, label=\"\",\n",
    "    ribbon=semsd./10^6, fill=:orange, \n",
    "    markersize=8, color=:red)\n",
    "\n",
    "savefig(string(path, \"figs/RadioTrack_MSD.png\"))"
   ]
  },
  {
   "cell_type": "code",
   "execution_count": 107,
   "metadata": {},
   "outputs": [],
   "source": [
    "plot(xlabel=string(\"Time from sunset (hours)\"), ylabel=\"MSD (km²)\", \n",
    "    markersize=8, color=:red,\n",
    "    ylims=(0,1.6),\n",
    "    size=(800,500), grid=false,\n",
    "    tickfontsize=17, guidefontsize=22, margin=10mm)\n",
    "scatter!((dt:dt:maximum(ts))./3600., meansd./10^6, label=\"\",\n",
    "    ribbon=semsd./10^6, fill=:orange, \n",
    "    markersize=8, color=:red    )\n",
    "plot!((dt:dt:maximum(ts))./3600,msds_quadratic./10^6, label=\"\",\n",
    "    line = (:line, :solid, 1, 3, :blue))\n",
    "\n",
    "savefig(string(path, \"figs/RadioTrack_MSD_fit.png\"))"
   ]
  }
 ],
 "metadata": {
  "kernelspec": {
   "display_name": "Julia 1.1.0",
   "language": "julia",
   "name": "julia-1.1"
  },
  "language_info": {
   "file_extension": ".jl",
   "mimetype": "application/julia",
   "name": "julia",
   "version": "1.1.0"
  }
 },
 "nbformat": 4,
 "nbformat_minor": 2
}
