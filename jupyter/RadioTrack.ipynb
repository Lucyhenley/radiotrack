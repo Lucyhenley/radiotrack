{
 "cells": [
  {
   "cell_type": "code",
   "execution_count": 26,
   "metadata": {},
   "outputs": [
    {
     "name": "stderr",
     "output_type": "stream",
     "text": [
      "┌ Info: Precompiling LaTeXStrings [b964fa9f-0449-5b57-a5c2-d3ea65f4040f]\n",
      "└ @ Base loading.jl:1186\n",
      "┌ Info: Precompiling JLD2 [033835bb-8acc-5ee8-8aae-3f567f8a3819]\n",
      "└ @ Base loading.jl:1186\n",
      "┌ Info: Precompiling LsqFit [2fda8390-95c7-5789-9bda-21331edee243]\n",
      "└ @ Base loading.jl:1186\n"
     ]
    },
    {
     "data": {
      "text/plain": [
       "\"./\""
      ]
     },
     "execution_count": 26,
     "metadata": {},
     "output_type": "execute_result"
    }
   ],
   "source": [
    "ENV[\"GKS_ENCODING\"] = \"utf-8\"\n",
    "#using GroupedErrors\n",
    "using JuliaDB, Plots, StatsPlots, StatsBase, Interpolations, Statistics, LaTeXStrings, Random, Distributions,\n",
    "JLD2, Colors, Plots.PlotMeasures, Dates, LsqFit\n",
    "gr()\n",
    "path = \"./\""
   ]
  },
  {
   "cell_type": "code",
   "execution_count": 2,
   "metadata": {},
   "outputs": [
    {
     "ename": "ArgumentError",
     "evalue": "ArgumentError: Specified path is neither a file, nor a directory.",
     "output_type": "error",
     "traceback": [
      "ArgumentError: Specified path is neither a file, nor a directory.",
      "",
      "Stacktrace:",
      " [1] #_loadtable#188(::Nothing, ::Nothing, ::Bool, ::Array{Any,1}, ::Bool, ::Bool, ::Base.Iterators.Pairs{Union{},Union{},Tuple{},NamedTuple{(),Tuple{}}}, ::Function, ::Type, ::String) at /home/lucy/.julia/packages/JuliaDB/7cG1k/src/io.jl:101",
      " [2] _loadtable at /home/lucy/.julia/packages/JuliaDB/7cG1k/src/io.jl:95 [inlined]",
      " [3] #loadtable#186 at /home/lucy/.julia/packages/JuliaDB/7cG1k/src/io.jl:63 [inlined]",
      " [4] loadtable(::String) at /home/lucy/.julia/packages/JuliaDB/7cG1k/src/io.jl:63",
      " [5] top-level scope at In[2]:1"
     ]
    }
   ],
   "source": [
    "t = loadtable(string(\"./data/radiotrack.csv\"))\n",
    "\n",
    "t = pushcol(t, :x_displacement, select(t, (:X, :start_x) => row -> row.X-row.start_x))\n",
    "t = pushcol(t, :y_displacement, select(t, (:Y, :start_y) => row -> row.Y-row.start_y))\n",
    "\n",
    "t = pushcol(t, :SD, (:X, :start_x, :Y, :start_y) => row -> (row.X-row.start_x)^2 + (row.Y-row.start_y)^2)\n",
    "sunset = 21*3600 .+ 60 .*[3, 4, 5, 7, 8, 9, 10, 12, 13, 14, 15, 16, 17, 18, 24, 25, 25, 26, 27, 27, 28];\n",
    "days = unique(select(t, :studyday))\n",
    "\n"
   ]
  },
  {
   "cell_type": "code",
   "execution_count": 3,
   "metadata": {},
   "outputs": [
    {
     "ename": "ArgumentError",
     "evalue": "ArgumentError: Specified path is neither a file, nor a directory.",
     "output_type": "error",
     "traceback": [
      "ArgumentError: Specified path is neither a file, nor a directory.",
      "",
      "Stacktrace:",
      " [1] #_loadtable#188(::Nothing, ::Nothing, ::Bool, ::Array{Any,1}, ::Bool, ::Bool, ::Base.Iterators.Pairs{Union{},Union{},Tuple{},NamedTuple{(),Tuple{}}}, ::Function, ::Type, ::String) at /home/lucy/.julia/packages/JuliaDB/7cG1k/src/io.jl:101",
      " [2] _loadtable at /home/lucy/.julia/packages/JuliaDB/7cG1k/src/io.jl:95 [inlined]",
      " [3] #loadtable#186 at /home/lucy/.julia/packages/JuliaDB/7cG1k/src/io.jl:63 [inlined]",
      " [4] loadtable(::String) at /home/lucy/.julia/packages/JuliaDB/7cG1k/src/io.jl:63",
      " [5] top-level scope at In[3]:2"
     ]
    }
   ],
   "source": [
    "gr()\n",
    "t2 = loadtable(string(\"./data/radiotrack/radiotrack_roosts.csv\"))\n",
    "scatter((select(t,:X).-minimum(select(t,:X)))./1e3 .+ 0.1, (select(t,:Y).- minimum(select(t,:Y)))./1e3, markersize=4, label=\"Bat locations\")\n",
    "scatter!((select(t2,:Roost_x).- minimum(select(t,:X)))./1e3 .+ 0.1,(select(t2,:Roost_y).- minimum(select(t,:Y)))./1e3, markersize=8, label=\"Day roosts\",marker=:diamond)\n",
    "plot!(legend=:outertopright, aspect_ratio=1,xlabel=\"x (km)\",ylabel=\"y (km)\",tickfontsize=12, legendfontsize=12, guidefontsize=12, grid=:off,\n",
    "    size=(600,400), margin=10px)\n",
    "savefig(string(path, \"figs/track_locations.pdf\"))"
   ]
  },
  {
   "cell_type": "code",
   "execution_count": 4,
   "metadata": {},
   "outputs": [
    {
     "ename": "UndefVarError",
     "evalue": "UndefVarError: t not defined",
     "output_type": "error",
     "traceback": [
      "UndefVarError: t not defined",
      "",
      "Stacktrace:",
      " [1] top-level scope at In[4]:4"
     ]
    }
   ],
   "source": [
    "i = 1\n",
    "plot()\n",
    "colours = [:fuchsia,:greenyellow,:blue,:red,:orange,:black]\n",
    "for (idx,j) in enumerate(unique(select(filter(x -> x == i , t; select = :BatID), :studyday)))\n",
    "    plot!((select(filter(x -> (x.BatID == i)&& (x.studyday ==j),t),:X).- minimum(select(t,:X)))./1e3, \n",
    "        (select(filter(x -> (x.BatID == i)&& (x.studyday ==j),t),:Y).- minimum(select(t,:Y)))./1e3, \n",
    "        width=2, label=string(\"Day \",j), color=colours[idx])\n",
    "end\n",
    "for (idx,j) in enumerate(unique(select(filter(x -> x == i , t; select = :BatID), :studyday)))\n",
    "    scatter!((select(filter(x -> (x.BatID == i)&& (x.studyday ==j),t),:X).- minimum(select(t,:X)))./1e3, \n",
    "        (select(filter(x -> (x.BatID == i)&& (x.studyday ==j),t),:Y).- minimum(select(t,:Y)))./1e3, \n",
    "        markersize=4, label=\"\", color=colours[idx])\n",
    "end\n",
    "scatter!((select(t2,:Roost_x).- minimum(select(t,:X)))[1:2]./1e3 .+ 0.1,\n",
    "    (select(t2,:Roost_y).- minimum(select(t,:Y)))[1:2]./1e3, markersize=8, \n",
    "    label=\"Day roosts\",marker=:diamond, color=:cadetblue1)\n",
    "plot!(legend=:outertopright, aspect_ratio=1,xlabel=\"x (km)\",ylabel=\"y (km)\",tickfontsize=12, legendfontsize=12, guidefontsize=12, grid=:off,\n",
    "    size=(600,400), margin=10px, ylims=[0 5])\n",
    "savefig(string(path, \"figs/bat1_locations.pdf\"))"
   ]
  },
  {
   "cell_type": "code",
   "execution_count": 5,
   "metadata": {},
   "outputs": [],
   "source": [
    "xp = []\n",
    "yp = []\n",
    "for i = range(0, stop=2pi, length=100)    \n",
    "    append!(xp, sin(i)*1600)\n",
    "    append!(yp, cos(i)*1600)\n",
    "end"
   ]
  },
  {
   "cell_type": "code",
   "execution_count": 6,
   "metadata": {},
   "outputs": [
    {
     "ename": "UndefVarError",
     "evalue": "UndefVarError: t not defined",
     "output_type": "error",
     "traceback": [
      "UndefVarError: t not defined",
      "",
      "Stacktrace:",
      " [1] top-level scope at In[6]:4"
     ]
    }
   ],
   "source": [
    "i = 5\n",
    "j = 6\n",
    "idx = j\n",
    "A_t = select(filter(x -> (x.BatID == i) && (x.studyday ==j), t), :Time)\n",
    " \n",
    "xdis1 = select(filter(x -> (x.BatID == i) && (x.studyday ==j), t), :x_displacement)\n",
    "ydis1 = select(filter(x -> (x.BatID == i) && (x.studyday ==j), t), :y_displacement);\n",
    "\n",
    "i = 6\n",
    "j = 8\n",
    "idx = j\n",
    "A_t = select(filter(x -> (x.BatID == i) && (x.studyday ==j), t), :Time)\n",
    " \n",
    "xdis2 = select(filter(x -> (x.BatID == i) && (x.studyday ==j), t), :x_displacement)\n",
    "ydis2 = select(filter(x -> (x.BatID == i) && (x.studyday ==j), t), :y_displacement);\n",
    "\n",
    "\n",
    "i = 6\n",
    "j = 10\n",
    "idx = j\n",
    "A_t = select(filter(x -> (x.BatID == i) && (x.studyday ==j), t), :Time)\n",
    " \n",
    "xdis3 = select(filter(x -> (x.BatID == i) && (x.studyday ==j), t), :x_displacement)\n",
    "ydis3 = select(filter(x -> (x.BatID == i) && (x.studyday ==j), t), :y_displacement);\n",
    "\n",
    "i = 7\n",
    "j = 8\n",
    "idx = j\n",
    "A_t = select(filter(x -> (x.BatID == i) && (x.studyday ==j), t), :Time)\n",
    " \n",
    "xdis4 = select(filter(x -> (x.BatID == i) && (x.studyday ==j), t), :x_displacement)\n",
    "ydis4 = select(filter(x -> (x.BatID == i) && (x.studyday ==j), t), :y_displacement);\n",
    "\n"
   ]
  },
  {
   "cell_type": "code",
   "execution_count": 7,
   "metadata": {},
   "outputs": [
    {
     "ename": "UndefVarError",
     "evalue": "UndefVarError: xdis1 not defined",
     "output_type": "error",
     "traceback": [
      "UndefVarError: xdis1 not defined",
      "",
      "Stacktrace:",
      " [1] top-level scope at In[7]:4"
     ]
    }
   ],
   "source": [
    "gr()\n",
    "plt = hline([0,0], label=\"\", color=:black)\n",
    "vline!([0,0], label=\"\", color=:black)\n",
    "plot!(xdis1, ydis1, label=\"Regression\", color=:blue)\n",
    "scatter!(xdis1,ydis1, label=\"Recorded points\", color=:blue, markersize=5)\n",
    "plot!(xdis2, ydis2, label=\"Regression\", color=:orange)\n",
    "scatter!(xdis2,ydis2, label=\"Recorded points\", color=:orange, markersize=5)\n",
    "plot!(xdis3, ydis3, label=\"Regression\", color=:red)\n",
    "scatter!(xdis3,ydis3, label=\"Recorded points\", color=:red, markersize=5)\n",
    "plot!(xdis4, ydis4, label=\"Regression\", color=:black)\n",
    "scatter!(xdis4,ydis4, label=\"Recorded points\", color=:black, markersize=5)\n",
    "\n",
    "\n",
    "#plot!(xp, yp, label=\"Boundary\", color=:green)\n",
    "\n",
    "\n",
    "plot!(grid=false, aspect_ratio=1, showaxis=false, legend=false,\n",
    "    size=(500,500),\n",
    "    tickfontsize=18, guidefontsize=20, legendfontsize=10)\n",
    "\n",
    "savefig(string(path, \"figs/Diffusion_eg.pdf\"))\n",
    "plot(plt)"
   ]
  },
  {
   "cell_type": "code",
   "execution_count": 8,
   "metadata": {},
   "outputs": [
    {
     "ename": "ArgumentError",
     "evalue": "ArgumentError: Specified path is neither a file, nor a directory.",
     "output_type": "error",
     "traceback": [
      "ArgumentError: Specified path is neither a file, nor a directory.",
      "",
      "Stacktrace:",
      " [1] #_loadtable#188(::Nothing, ::Nothing, ::Bool, ::Array{Any,1}, ::Bool, ::Bool, ::Base.Iterators.Pairs{Union{},Union{},Tuple{},NamedTuple{(),Tuple{}}}, ::Function, ::Type, ::String) at /home/lucy/.julia/packages/JuliaDB/7cG1k/src/io.jl:101",
      " [2] _loadtable at /home/lucy/.julia/packages/JuliaDB/7cG1k/src/io.jl:95 [inlined]",
      " [3] #loadtable#186 at /home/lucy/.julia/packages/JuliaDB/7cG1k/src/io.jl:63 [inlined]",
      " [4] loadtable(::String) at /home/lucy/.julia/packages/JuliaDB/7cG1k/src/io.jl:63",
      " [5] top-level scope at In[8]:1"
     ]
    }
   ],
   "source": [
    "t2 = loadtable(string(\"./data/radiotrack/radiotrack_roosts.csv\"))\n",
    "\n",
    "dt = 200.\n",
    "times = []\n",
    "sdists = []\n",
    "xdists = []\n",
    "ydists = []\n",
    "ts = []\n",
    "l = []\n",
    "n_locations = 0\n",
    "n_locations_all = 0\n",
    "for i in unique(select(t, :BatID))\n",
    "    for (idx,j) in enumerate(unique(select(filter(x -> x == i , t; select = :BatID), :studyday)))\n",
    "           roost = [select(filter(x -> (x.BatID == i) && (x.studyday ==(j+1)), t2), :Roost_x)  select(filter(x -> (x.BatID == i) && (x.studyday ==j+1), t2), :Roost_y)]\n",
    "             A_t = select(filter(x -> (x.BatID == i) && (x.studyday ==j), t), :Time)\n",
    "            n_locations_all += length(A_t)   \n",
    "            if length(roost) >0\n",
    "            A_t = select(filter(x -> (x.BatID == i) && (x.studyday ==j), t), :Time)\n",
    "            n_locations += length(A_t)\n",
    "            tfs = hour.(DateTime.(A_t, \"HH:MM:SS\"))*3600 + minute.(DateTime.(A_t, \"HH:MM:SS\"))*60 + second.(DateTime.(A_t, \"HH:MM:SS\")) .- sunset[findfirst(x-> x==j, days)]   \n",
    "            tfs[findall(tfs .< -10000)] .+= 24*3600\n",
    "            tfs[findall(tfs.<0)] .= 0\n",
    "            if length(tfs) > 1\n",
    "                knots = (tfs,)\n",
    "                itpx = interpolate(knots, select(filter(x -> (x.BatID == i) && (x.studyday ==j), t), :X).-roost[1], Gridded(Linear()))\n",
    "                itpy = interpolate(knots, select(filter(x -> (x.BatID == i) && (x.studyday ==j), t), :Y).-roost[2], Gridded(Linear()))\n",
    "                for (j,t) in enumerate(dt:dt:8*3600)\n",
    "                    if t < tfs[end] && t > tfs[1]\n",
    "                        append!(ts, t)\n",
    "                        append!(sdists, itpx(t)^2+itpy(t)^2)\n",
    "                        append!(xdists, itpx(t))\n",
    "                        append!(ydists, itpy(t))\n",
    "                    end\n",
    "                end\n",
    "            end\n",
    "        end\n",
    "    end\n",
    "end\n",
    "\n",
    "hours = ts./3600;\n",
    "t3 = table((t=ts, hour=hours, sd=sdists, xd=xdists, yd=ydists));"
   ]
  },
  {
   "cell_type": "code",
   "execution_count": 9,
   "metadata": {},
   "outputs": [
    {
     "ename": "UndefVarError",
     "evalue": "UndefVarError: ts not defined",
     "output_type": "error",
     "traceback": [
      "UndefVarError: ts not defined",
      "",
      "Stacktrace:",
      " [1] top-level scope at ./In[9]:11"
     ]
    }
   ],
   "source": [
    "# sqrt(var(x, corrected=true) / length(x)).\n",
    "\n",
    "meansd = []\n",
    "meanxd = []\n",
    "meanyd = []\n",
    "meand = []\n",
    "stdsd = []\n",
    "varsd = []\n",
    "lngth = [] \n",
    "sstot = 0\n",
    "for (i, tps) in enumerate(dt:dt:maximum(ts))\n",
    "    append!(meansd, mean(sdists[ts.==tps]))\n",
    "    append!(meanxd, mean(xdists[ts.==tps]))\n",
    "    append!(meanyd, mean(ydists[ts.==tps]))\n",
    "    append!(meand, mean(xdists[ts.==tps].+ydists[ts.==tps]))\n",
    "    append!(stdsd, Statistics.std(sdists[ts.==tps]))\n",
    "    append!(varsd, StatsBase.var(sdists[ts.==tps]))\n",
    "    append!(lngth, length(sdists[ts.==tps]))\n",
    "end\n",
    "semsd = sqrt.(varsd./lngth);\n",
    "semsd[isnan.(semsd)] .= 0;"
   ]
  },
  {
   "cell_type": "code",
   "execution_count": 10,
   "metadata": {},
   "outputs": [
    {
     "ename": "UndefVarError",
     "evalue": "UndefVarError: ts not defined",
     "output_type": "error",
     "traceback": [
      "UndefVarError: ts not defined",
      "",
      "Stacktrace:",
      " [1] top-level scope at In[10]:1"
     ]
    }
   ],
   "source": [
    "scatter((dt:dt:maximum(ts))./3600., sqrt.(meansd), label=\"\",\n",
    "    xlabel=string(\"Time from sunset (hours)\"), ylabel=\"<r>\", \n",
    "    markersize=8, color=:red,\n",
    "    size=(800,500),\n",
    "    tickfontsize=17, guidefontsize=22)"
   ]
  },
  {
   "cell_type": "code",
   "execution_count": 11,
   "metadata": {},
   "outputs": [
    {
     "ename": "UndefVarError",
     "evalue": "UndefVarError: ts not defined",
     "output_type": "error",
     "traceback": [
      "UndefVarError: ts not defined",
      "",
      "Stacktrace:",
      " [1] top-level scope at In[11]:1"
     ]
    }
   ],
   "source": [
    "t = dt:dt:maximum(ts)\n",
    "@save \"radiotrack.jld2\" t meansd semsd stdsd"
   ]
  },
  {
   "cell_type": "code",
   "execution_count": 12,
   "metadata": {},
   "outputs": [
    {
     "ename": "UndefVarError",
     "evalue": "UndefVarError: t3 not defined",
     "output_type": "error",
     "traceback": [
      "UndefVarError: t3 not defined",
      "",
      "Stacktrace:",
      " [1] top-level scope at In[12]:3"
     ]
    }
   ],
   "source": [
    "T = 4.35 *10^3\n",
    "@. model(t, D) = 4*D[1]*t+D[2]\n",
    "xdata = select(filter(x -> (x.t <T),t3), :t)\n",
    "ydata = select(filter(x -> (x.t < T), t3), :sd)\n",
    "D0 = [100., 100.0]\n",
    "fit_ = curve_fit(model, xdata, ydata, D0)\n",
    "D_estimate = coef(fit_)\n",
    "coef(fit_), confidence_interval(fit_, 0.1)"
   ]
  },
  {
   "cell_type": "code",
   "execution_count": 13,
   "metadata": {},
   "outputs": [
    {
     "ename": "UndefVarError",
     "evalue": "UndefVarError: t3 not defined",
     "output_type": "error",
     "traceback": [
      "UndefVarError: t3 not defined",
      "",
      "Stacktrace:",
      " [1] top-level scope at In[13]:3"
     ]
    }
   ],
   "source": [
    "T = 4.19 *10^3\n",
    "@. model(t, p) = p[1]*t + p[2]\n",
    "xdata = select(filter(row -> (row.t > T), t3), :t)\n",
    "ydata = select(filter(row -> (row.t > T), t3), :sd)\n",
    "p0 = [1., 1.]\n",
    "fit_ = curve_fit(model, xdata, ydata, p0)\n",
    "p = coef(fit_)\n",
    "\n",
    "dt_sim = 10\n",
    "msds_linear = []\n",
    "\n",
    "for (i, tps) in enumerate(dt:dt:maximum(ts))\n",
    "    if tps<T\n",
    "        append!(msds_linear, 4*D_estimate[1]*tps+D_estimate[2])\n",
    "    else\n",
    "        append!(msds_linear,(p[1]*tps + p[2]))\n",
    "    end\n",
    "end\n",
    "\n",
    "\n",
    "semsd = sqrt.(varsd./lngth);\n",
    "semsd[isnan.(semsd)] .= 0;\n"
   ]
  },
  {
   "cell_type": "code",
   "execution_count": 14,
   "metadata": {},
   "outputs": [
    {
     "ename": "UndefVarError",
     "evalue": "UndefVarError: t3 not defined",
     "output_type": "error",
     "traceback": [
      "UndefVarError: t3 not defined",
      "",
      "Stacktrace:",
      " [1] top-level scope at In[14]:4"
     ]
    }
   ],
   "source": [
    "\n",
    "T = 4.19 *10^3\n",
    "@. model(t, p) = p[1]*t^2 + p[2]*t + p[3]\n",
    "xdata = select(filter(row -> (row.t > T), t3), :t)\n",
    "ydata = select(filter(row -> (row.t > T), t3), :sd)\n",
    "p0 = [1.,1.,1.]\n",
    "fit_ = curve_fit(model, xdata, ydata, p0)\n",
    "p = coef(fit_)\n",
    "\n",
    "dt_sim = 10\n",
    "msds_quadratic = []\n",
    "\n",
    "for (i, tps) in enumerate(dt:dt:maximum(ts))\n",
    "    if tps<T\n",
    "        append!(msds_quadratic, 4*D_estimate[1]*tps+D_estimate[2])\n",
    "    else\n",
    "        append!(msds_quadratic,(p[1]*tps^2 + p[2]*tps + p[3]))\n",
    "    end\n",
    "end\n",
    "\n",
    "semsd = sqrt.(varsd./lngth);\n",
    "semsd[isnan.(semsd)] .= 0;\n",
    "\n"
   ]
  },
  {
   "cell_type": "code",
   "execution_count": 15,
   "metadata": {},
   "outputs": [
    {
     "ename": "UndefVarError",
     "evalue": "UndefVarError: t3 not defined",
     "output_type": "error",
     "traceback": [
      "UndefVarError: t3 not defined",
      "",
      "Stacktrace:",
      " [1] top-level scope at In[15]:3"
     ]
    }
   ],
   "source": [
    "T = 4.19 *10^3\n",
    "@. model(t, p) = p[1]*t^2 + p[2]*t + p[3]\n",
    "xdata = select(filter(row -> (row.t > T), t3), :t)\n",
    "ydata = select(filter(row -> (row.t > T), t3), :sd)\n",
    "p0 = [1.,1.,1.]\n",
    "fit_ = curve_fit(model, xdata, ydata, p0)\n",
    "p = coef(fit_)\n",
    "\n",
    "dt_sim = 10\n",
    "msds_quadratic = []\n",
    "\n",
    "for (i, tps) in enumerate(dt:dt:maximum(ts))\n",
    "    if tps<T\n",
    "        append!(msds_quadratic, 4*D_estimate[1]*tps+D_estimate[2])\n",
    "    else\n",
    "        append!(msds_quadratic,(p[1]*tps^2 + p[2]*tps + p[3]))\n",
    "    end\n",
    "end\n",
    "\n",
    "semsd = sqrt.(varsd./lngth);\n",
    "semsd[isnan.(semsd)] .= 0;\n"
   ]
  },
  {
   "cell_type": "code",
   "execution_count": 16,
   "metadata": {},
   "outputs": [
    {
     "data": {
      "text/plain": [
       "NaN"
      ]
     },
     "execution_count": 16,
     "metadata": {},
     "output_type": "execute_result"
    }
   ],
   "source": [
    "sstot = 0\n",
    "ssres_linear = 0\n",
    "ssres_quadratic = 0\n",
    "ssres_simulation = 0\n",
    "    for (i,msd) in enumerate(meansd)  \n",
    "        sstot += (msd - mean(meansd))^2\n",
    "        ssres_linear += (msds_linear[i]-msd)^2\n",
    "        ssres_quadratic += (msds_quadratic[i]-msd)^2\n",
    "    end\n",
    "\n",
    "\n",
    "r2_quadratic = 1 - ssres_quadratic/sstot\n",
    "r2_linear = 1 - ssres_linear/sstot"
   ]
  },
  {
   "cell_type": "code",
   "execution_count": 17,
   "metadata": {},
   "outputs": [
    {
     "data": {
      "text/plain": [
       "NaN"
      ]
     },
     "execution_count": 17,
     "metadata": {},
     "output_type": "execute_result"
    }
   ],
   "source": [
    "r2_linear"
   ]
  },
  {
   "cell_type": "code",
   "execution_count": 18,
   "metadata": {},
   "outputs": [
    {
     "data": {
      "text/plain": [
       "NaN"
      ]
     },
     "execution_count": 18,
     "metadata": {},
     "output_type": "execute_result"
    }
   ],
   "source": [
    "r2_quadratic"
   ]
  },
  {
   "cell_type": "code",
   "execution_count": 19,
   "metadata": {},
   "outputs": [
    {
     "ename": "LoadError",
     "evalue": "UndefVarError: @L_str not defined",
     "output_type": "error",
     "traceback": [
      "UndefVarError: @L_str not defined",
      ""
     ]
    }
   ],
   "source": [
    "plot(xlabel=string(\"Time from sunset (hours)\"), ylabel=L\"<r^2>\", \n",
    "    markersize=8, color=:red,\n",
    "    size=(800,500),\n",
    "    tickfontsize=17, guidefontsize=22)\n",
    "scatter!((dt:dt:maximum(ts))./3600., meansd./10^6, label=\"\",\n",
    "    ribbon=semsd./10^6, fill=:orange, \n",
    "    markersize=8, color=:red,\n",
    "    size=(800,500),\n",
    "    tickfontsize=17, guidefontsize=22,\n",
    "    margin=10mm)\n",
    "\n",
    "#savefig(string(path, \"figs/RadioTrack_MSD.pdf\"))"
   ]
  },
  {
   "cell_type": "code",
   "execution_count": 20,
   "metadata": {},
   "outputs": [
    {
     "data": {
      "text/plain": [
       "MSD (generic function with 1 method)"
      ]
     },
     "execution_count": 20,
     "metadata": {},
     "output_type": "execute_result"
    }
   ],
   "source": [
    "function diffusion_step(D,dt,x,y)\n",
    "    return x + rand(Normal(0,sqrt(2*D*dt))), y + rand(Normal(0,sqrt(2*D*dt)))\n",
    "end\n",
    "\n",
    "function drift_step(D,chi,dt,t,tD,x,y,r_threshold,r_exp,t_exp)\n",
    "    r = sqrt(x^2+y^2)\n",
    "    if r > r_threshold \n",
    "        xdir = x/sqrt(x^2+y^2)\n",
    "        ydir = y/sqrt(x^2+y^2)\n",
    "        return x - rand(Normal(xdir*chi*dt*(r^r_exp),sqrt(2*D*dt))), y - rand(Normal(ydir*chi*dt*(r^r_exp),sqrt(2*D*dt)))\n",
    "    else\n",
    "        return 0,0\n",
    "    end\n",
    "end\n",
    "\n",
    "function MSD(x,y)\n",
    "    Dist = x .+ y\n",
    "    SD = x.^2 .+ y.^2;\n",
    "    meansd = Array{Float64}(undef,size(SD)[2])\n",
    "    for i = 1:size(SD)[2]\n",
    "        if length(SD[:,i][SD[:,i].!=0]) > 0  \n",
    "            meansd[i] = mean(SD[:,i][SD[:,i].!=0])\n",
    "        else\n",
    "            meansd[i] = 0.0 \n",
    "        end\n",
    "    end\n",
    "    return mean(SD,dims=1)\n",
    "end"
   ]
  },
  {
   "cell_type": "code",
   "execution_count": 21,
   "metadata": {},
   "outputs": [
    {
     "ename": "UndefVarError",
     "evalue": "UndefVarError: D_estimate not defined",
     "output_type": "error",
     "traceback": [
      "UndefVarError: D_estimate not defined",
      "",
      "Stacktrace:",
      " [1] top-level scope at In[21]:1"
     ]
    }
   ],
   "source": [
    "start_time = - D_estimate[2]/(D_estimate[1]*4)"
   ]
  },
  {
   "cell_type": "code",
   "execution_count": 22,
   "metadata": {},
   "outputs": [
    {
     "ename": "UndefVarError",
     "evalue": "UndefVarError: D_estimate not defined",
     "output_type": "error",
     "traceback": [
      "UndefVarError: D_estimate not defined",
      "",
      "Stacktrace:",
      " [1] top-level scope at In[22]:2"
     ]
    }
   ],
   "source": [
    "chi = 7*10^6\n",
    "D1 = D_estimate[1]\n",
    "D2 = 0.1\n",
    "dt = 100\n",
    "r_threshold = 10\n",
    "r_exp = -2\n",
    "t_exp = 0#1\n",
    "dt = 0.1\n",
    "\n",
    "T = 3600*8\n",
    "N = 1000\n",
    "x = Array{Float64}(undef,N,length(t))\n",
    "y = Array{Float64}(undef,N,length(t))\n",
    "tD = 4200\n",
    "start_time = - D_estimate[2]/(D_estimate[1]*4)\n",
    "t = start_time:dt:T\n",
    "\n",
    "for (j,ts) in enumerate(t[1:end-1]) \n",
    "    idx = sortperm(x[:,j].^2 + y[:,j].^2)[end]\n",
    "    for i = 1:N\n",
    "        if ts < tD\n",
    "            x[i,j+1],y[i,j+1] = diffusion_step(D1,dt,x[i,j],y[i,j])\n",
    "        elseif any(x->x==i, idx)\n",
    "            x[i,j+1],y[i,j+1] = drift_step(D2,chi,dt,t,tD,x[i,j],y[i,j],r_threshold,r_exp,t_exp)\n",
    "        else\n",
    "            x[i,j+1],y[i,j+1] = diffusion_step(D2,dt,x[i,j],y[i,j])\n",
    "        end\n",
    "    end\n",
    "end\n",
    "\n",
    "msd_sim = MSD(x,y);"
   ]
  },
  {
   "cell_type": "code",
   "execution_count": 23,
   "metadata": {},
   "outputs": [
    {
     "ename": "UndefVarError",
     "evalue": "UndefVarError: ts not defined",
     "output_type": "error",
     "traceback": [
      "UndefVarError: ts not defined",
      "",
      "Stacktrace:",
      " [1] top-level scope at In[23]:2"
     ]
    }
   ],
   "source": [
    "dt = 200\n",
    "scatter((dt:dt:maximum(ts))./3600., meansd, label=\"Data\",\n",
    "    ribbon=semsd, fill=:orange, \n",
    "    xlabel=string(\"Time from sunset (hours)\"), ylabel=\"MSD\", \n",
    "    markersize=8, color=:red,\n",
    "    size=(800,500),\n",
    "    tickfontsize=17, guidefontsize=22)\n",
    "\n",
    "plot!(t./3600 ,msd_sim[1:length(t)],\n",
    "    xlabel=\"Time (hours)\", ylabel=\"MSD\",label=\"Simulation\",\n",
    "    linewidth=2, colour=:blue)\n"
   ]
  },
  {
   "cell_type": "code",
   "execution_count": 24,
   "metadata": {},
   "outputs": [
    {
     "ename": "UndefVarError",
     "evalue": "UndefVarError: path not defined",
     "output_type": "error",
     "traceback": [
      "UndefVarError: path not defined",
      "",
      "Stacktrace:",
      " [1] top-level scope at In[24]:1"
     ]
    }
   ],
   "source": [
    "savefig(string(path, \"figs/RadioTrack_simulation.pdf\"))"
   ]
  },
  {
   "cell_type": "code",
   "execution_count": 25,
   "metadata": {},
   "outputs": [
    {
     "data": {
      "text/plain": [
       "NaN"
      ]
     },
     "execution_count": 25,
     "metadata": {},
     "output_type": "execute_result"
    }
   ],
   "source": [
    "dt = 200\n",
    "sstot = 0\n",
    "ssres_simulation = 0\n",
    "    for (i,msd) in enumerate(meansd)  \n",
    "        sstot += (msd - mean(meansd))^2\n",
    "        ssres_simulation += (msd_sim[i*dt]-msd)^2\n",
    "    end\n",
    "\n",
    "\n",
    "r2_simulation = 1 - ssres_simulation/sstot"
   ]
  },
  {
   "cell_type": "code",
   "execution_count": null,
   "metadata": {},
   "outputs": [],
   "source": []
  },
  {
   "cell_type": "code",
   "execution_count": null,
   "metadata": {},
   "outputs": [],
   "source": []
  }
 ],
 "metadata": {
  "kernelspec": {
   "display_name": "Julia 1.1.1",
   "language": "julia",
   "name": "julia-1.1"
  },
  "language_info": {
   "file_extension": ".jl",
   "mimetype": "application/julia",
   "name": "julia",
   "version": "1.1.1"
  }
 },
 "nbformat": 4,
 "nbformat_minor": 2
}
