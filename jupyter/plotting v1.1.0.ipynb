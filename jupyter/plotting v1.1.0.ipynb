{
 "cells": [
  {
   "cell_type": "code",
   "execution_count": 1,
   "metadata": {},
   "outputs": [
    {
     "name": "stderr",
     "output_type": "stream",
     "text": [
      "┌ Info: Recompiling stale cache file C:\\Users\\lucy_\\.julia\\compiled\\v1.1\\Plots\\ld3vC.ji for Plots [91a5bcdd-55d7-5caf-9e0b-520d859cae80]\n",
      "└ @ Base loading.jl:1184\n"
     ]
    },
    {
     "data": {
      "text/plain": [
       "4-element Array{String,1}:\n",
       " \"@\"                                  \n",
       " \"@v#.#\"                              \n",
       " \"@stdlib\"                            \n",
       " \"C:\\\\Users\\\\lucy_\\\\bats\\\\RoostFinder\""
      ]
     },
     "execution_count": 1,
     "metadata": {},
     "output_type": "execute_result"
    }
   ],
   "source": [
    "include(\"../../startup.jl\")"
   ]
  },
  {
   "cell_type": "code",
   "execution_count": 2,
   "metadata": {},
   "outputs": [
    {
     "data": {
      "text/plain": [
       "5-element Array{Symbol,1}:\n",
       " :t_rt\n",
       " :msds\n",
       " :u0s \n",
       " :x   \n",
       " :L   "
      ]
     },
     "execution_count": 2,
     "metadata": {},
     "output_type": "execute_result"
    }
   ],
   "source": [
    "@load \"shrink_bound.jld2\" t_rt msds u0s x L"
   ]
  },
  {
   "cell_type": "code",
   "execution_count": 4,
   "metadata": {},
   "outputs": [
    {
     "ename": "ErrorException",
     "evalue": "failed process: Process(`'C:\\Users\\lucy_\\.julia\\packages\\FFMPEG\\guN1x\\deps\\usr\\bin\\ffmpeg.exe' -v 0 -framerate 3 -loop 0 -i 'C:\\Users\\lucy_\\AppData\\Local\\Temp\\jl_7D1A.tmp/%06d.png' -i 'C:\\Users\\lucy_\\AppData\\Local\\Temp\\jl_7D1A.tmp/palette.bmp' -lavfi paletteuse=dither=sierra2_4a -y 'C:\\Users\\lucy_\\bats\\radiotrack\\figs\\test.gif'`, ProcessExited(1)) [1]",
     "output_type": "error",
     "traceback": [
      "failed process: Process(`'C:\\Users\\lucy_\\.julia\\packages\\FFMPEG\\guN1x\\deps\\usr\\bin\\ffmpeg.exe' -v 0 -framerate 3 -loop 0 -i 'C:\\Users\\lucy_\\AppData\\Local\\Temp\\jl_7D1A.tmp/%06d.png' -i 'C:\\Users\\lucy_\\AppData\\Local\\Temp\\jl_7D1A.tmp/palette.bmp' -lavfi paletteuse=dither=sierra2_4a -y 'C:\\Users\\lucy_\\bats\\radiotrack\\figs\\test.gif'`, ProcessExited(1)) [1]",
      "",
      "Stacktrace:",
      " [1] error(::String, ::Base.Process, ::String, ::Int64, ::String) at .\\error.jl:42",
      " [2] pipeline_error at .\\process.jl:785 [inlined]",
      " [3] #run#515(::Bool, ::Function, ::Cmd) at .\\process.jl:726",
      " [4] run at .\\process.jl:724 [inlined]",
      " [5] #4 at C:\\Users\\lucy_\\.julia\\packages\\FFMPEG\\guN1x\\src\\FFMPEG.jl:133 [inlined]",
      " [6] withenv(::getfield(FFMPEG, Symbol(\"##4#6\")){String,Cmd}, ::Pair{String,String}) at .\\env.jl:148",
      " [7] #exe#2 at C:\\Users\\lucy_\\.julia\\packages\\FFMPEG\\guN1x\\src\\FFMPEG.jl:132 [inlined]",
      " [8] #exe at .\\none:0 [inlined]",
      " [9] ffmpeg_exe at C:\\Users\\lucy_\\.julia\\packages\\FFMPEG\\guN1x\\src\\FFMPEG.jl:144 [inlined]",
      " [10] #buildanimation#268(::Int64, ::Int64, ::Bool, ::Bool, ::Function, ::Animation, ::String, ::Bool) at C:\\Users\\lucy_\\.julia\\packages\\Plots\\qZHsp\\src\\animation.jl:92",
      " [11] #buildanimation at .\\none:0 [inlined] (repeats 2 times)",
      " [12] #gif#265 at C:\\Users\\lucy_\\.julia\\packages\\Plots\\qZHsp\\src\\animation.jl:63 [inlined]",
      " [13] (::getfield(Plots, Symbol(\"#kw##gif\")))(::NamedTuple{(:fps,),Tuple{Int64}}, ::typeof(gif), ::Animation, ::String) at .\\none:0",
      " [14] top-level scope at In[4]:6"
     ]
    }
   ],
   "source": [
    "anim = Animation()\n",
    "for i = 2:10\n",
    "    plot(1:i,1:i)\n",
    "    frame(anim)\n",
    "end\n",
    "gif(anim, \"../figs/test.gif\", fps = 3)"
   ]
  }
 ],
 "metadata": {
  "kernelspec": {
   "display_name": "Julia 1.1.0",
   "language": "julia",
   "name": "julia-1.1"
  },
  "language_info": {
   "file_extension": ".jl",
   "mimetype": "application/julia",
   "name": "julia",
   "version": "1.1.0"
  }
 },
 "nbformat": 4,
 "nbformat_minor": 2
}
